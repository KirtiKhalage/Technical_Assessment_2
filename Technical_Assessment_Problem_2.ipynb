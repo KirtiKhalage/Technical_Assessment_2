{
 "cells": [
  {
   "cell_type": "code",
   "execution_count": null,
   "id": "bb86b76d",
   "metadata": {},
   "outputs": [],
   "source": [
    "Problem Statement - 2 (Python) "
   ]
  },
  {
   "cell_type": "code",
   "execution_count": 29,
   "id": "e39b2415",
   "metadata": {},
   "outputs": [
    {
     "name": "stdout",
     "output_type": "stream",
     "text": [
      "Valid Triangle \n",
      "\n",
      "Valid Rectange\n"
     ]
    }
   ],
   "source": [
    "def validate_triangle(x,y,z):\n",
    "    l = [x,y,z]\n",
    "    for i in l:\n",
    "        if (l[2] < l[0]+l[1]) and (l[1] < l[0] + l[2]) and (l[0] < l[1] + l[2]) :\n",
    "            return \"Valid Triangle\"\n",
    "        else:\n",
    "            return \"Invalid Triangle\"\n",
    "        \n",
    "        \n",
    "def validate_rectange(a,b,c,d):\n",
    "    if a==c and b==d:\n",
    "        return \"Valid Rectange\"\n",
    "    else:\n",
    "        return \"Invalid Rectangle\"\n",
    "    \n",
    "        \n",
    "Input = validate_triangle(3, 4, 5)\n",
    "print(Input,\"\\n\")\n",
    "\n",
    "Input_1 = validate_rectange(2,4,2,4)\n",
    "print(Input_1)"
   ]
  }
 ],
 "metadata": {
  "kernelspec": {
   "display_name": "Python 3 (ipykernel)",
   "language": "python",
   "name": "python3"
  },
  "language_info": {
   "codemirror_mode": {
    "name": "ipython",
    "version": 3
   },
   "file_extension": ".py",
   "mimetype": "text/x-python",
   "name": "python",
   "nbconvert_exporter": "python",
   "pygments_lexer": "ipython3",
   "version": "3.9.13"
  }
 },
 "nbformat": 4,
 "nbformat_minor": 5
}
